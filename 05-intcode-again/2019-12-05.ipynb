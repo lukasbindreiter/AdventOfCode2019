{
 "cells": [
  {
   "cell_type": "code",
   "execution_count": 1,
   "metadata": {},
   "outputs": [],
   "source": [
    "import webbrowser\n",
    "from aocd.models import Puzzle\n",
    "puzzle = Puzzle(year=2019, day=5)\n",
    "webbrowser.open(puzzle.url);"
   ]
  },
  {
   "cell_type": "code",
   "execution_count": 2,
   "metadata": {},
   "outputs": [],
   "source": [
    "from dataclasses import dataclass\n",
    "from typing import Callable\n",
    "import numpy as np\n",
    "from functools import partial"
   ]
  },
  {
   "cell_type": "code",
   "execution_count": 3,
   "metadata": {},
   "outputs": [],
   "source": [
    "class ProgramStop(Exception):\n",
    "    def __init__(self, final_memory):\n",
    "        super().__init__()\n",
    "        self.state = final_memory\n",
    "\n",
    "@dataclass\n",
    "class OpCode:\n",
    "    name: str\n",
    "    code: int\n",
    "    n_args: int\n",
    "    func: Callable\n",
    "\n",
    "def exit(computer):\n",
    "    raise ProgramStop(computer._memory)\n",
    "    \n",
    "def arithmetic(computer, op):\n",
    "    computer.c = op(computer.a, computer.b)\n",
    "\n",
    "def input_(computer):\n",
    "    computer.a = computer.inputs.pop()\n",
    "\n",
    "def output(computer):\n",
    "    computer.outputs.append(computer.a)\n",
    "\n",
    "def jump_if(computer, condition):\n",
    "    if condition(computer.a):\n",
    "        return computer.b\n",
    "\n",
    "def arithmethic_comparison(computer, condition):\n",
    "    computer.c = int(condition(computer.a, computer.b))\n",
    "\n",
    "code_map = {\n",
    "    op.code: op for op in [\n",
    "        OpCode(name=\"add\", code=1, n_args=3, func=partial(arithmetic, op=lambda a, b: a + b)),\n",
    "        OpCode(name=\"multiply\", code=2, n_args=3, func=partial(arithmetic, op=lambda a, b: a * b)),\n",
    "        OpCode(name=\"input\", code=3, n_args=1, func=input_),\n",
    "        OpCode(name=\"output\", code=4, n_args=1, func=output),\n",
    "        OpCode(name=\"jump-if-true\", code=5, n_args=2, func=partial(jump_if, condition=lambda a: a != 0)),\n",
    "        OpCode(name=\"jump-if-false\",code=6, n_args=2, func=partial(jump_if, condition=lambda a: a == 0)),\n",
    "        OpCode(name=\"less than\", code=7, n_args=3, func=partial(arithmethic_comparison, condition=lambda a, b: a < b)),\n",
    "        OpCode(name=\"equals\", code=8, n_args=3, func=partial(arithmethic_comparison, condition=lambda a, b: a == b)),\n",
    "        OpCode(name=\"exit\", code=99, n_args=0, func=exit)\n",
    "    ]\n",
    "}\n",
    "\n",
    "def parse_opcode(code: int):\n",
    "    \"\"\"\n",
    "    Parse the opcode and the parameter modes from the given opcode integer\n",
    "    \n",
    "    >>> parse_opcode(1002)\n",
    "    OpCode('multiplay'), [0, 1, 0]\n",
    "    \n",
    "    >>> parse_opcode(1107)\n",
    "    OpCode('less than'), [1, 1, 0]\n",
    "    \"\"\"\n",
    "    instruction = code_map[code % 100]\n",
    "    modes = [code // 10**(p+2) % 10 for p in range(instruction.n_args)]\n",
    "    return instruction, modes"
   ]
  },
  {
   "cell_type": "code",
   "execution_count": 142,
   "metadata": {},
   "outputs": [],
   "source": [
    "class Computer:\n",
    "    def __init__(self, memory, inputs=None, debug=False):\n",
    "        self.original_memory = memory\n",
    "        self.original_inputs = [] if inputs is None else inputs\n",
    "        self.debug = debug\n",
    "    \n",
    "    def simulate(self):\n",
    "        self._memory = self.original_memory.copy()\n",
    "        self.inputs = [a for a in self.original_inputs[::-1]]  # copy inputs\n",
    "        self.outputs = []\n",
    "        try:\n",
    "            self._simulate()\n",
    "            raise ValueError(\"Program did not terminate and instruction pointer ran out of bounds\")\n",
    "        except ProgramStop as stop:\n",
    "            if self.debug:\n",
    "                print(\"Program Terminated!\")\n",
    "            self._final_memory = stop.state\n",
    "        return self.outputs\n",
    "    \n",
    "    def _simulate(self):\n",
    "        self._ip = 0  # instruction pointer\n",
    "        while self._ip < len(self._memory):\n",
    "            self._instruction, self._param_modes = parse_opcode(self._memory[self._ip])\n",
    "            self._params = self._memory[self._ip+1 : self._ip+1 + self._instruction.n_args]\n",
    "            self._log_instruction_call_before()\n",
    "            new_ip = self._instruction.func(self)\n",
    "            self._log_instruction_call_after(new_ip)\n",
    "            if new_ip is None:\n",
    "                self._ip += 1 + self._instruction.n_args\n",
    "            else:\n",
    "                self._ip = new_ip\n",
    "    \n",
    "    # easy accessors for the parameters of the current instruction\n",
    "    def _get_param(self, index):\n",
    "        assert len(self._params) > index\n",
    "        if self._param_modes[index] == 0:\n",
    "            return self._memory[self._params[index]]\n",
    "        return self._params[index]\n",
    "    \n",
    "    def _set_param(self, index, value):\n",
    "        assert len(self._params) > index\n",
    "        assert self._param_modes[index] == 0\n",
    "        self._memory[self._params[index]] = value\n",
    "    \n",
    "    @property\n",
    "    def a(self):\n",
    "        return self._get_param(0)\n",
    "    \n",
    "    @a.setter\n",
    "    def a(self, val):\n",
    "        self._set_param(0, val)\n",
    "    \n",
    "    @property\n",
    "    def b(self):\n",
    "        return self._get_param(1)\n",
    "    \n",
    "    @b.setter\n",
    "    def b(self, val):\n",
    "        self._set_param(1, val)\n",
    "    \n",
    "    @property\n",
    "    def c(self):\n",
    "        return self._get_param(2)\n",
    "    \n",
    "    @c.setter\n",
    "    def c(self, val):\n",
    "        self._set_param(2, val)\n",
    "    \n",
    "    def _log_instruction_call_before(self):\n",
    "        if not self.debug:\n",
    "            return\n",
    "        instr = ' '.join(map(str, self._memory[self._ip:self._ip+1 + self._instruction.n_args]))\n",
    "        params = [f\"[{par}]={self._memory[par]}\" if m == 0 else str(par) for par, m in zip(self._params, self._param_modes)]\n",
    "        print(f\"{str(self._ip) + '  ':.<6} {instr+'  ':.<20}  {self._instruction.name+'  ':.<15}  {', '.join(params) + '  ':.<40}\", end=\"\")\n",
    "    \n",
    "    def _log_instruction_call_after(self, new_ip):\n",
    "        if not self.debug:\n",
    "            return\n",
    "        writeable_params = set([par for par, m in zip(self._params, self._param_modes) if m == 0])\n",
    "        values = [f\"mem[{par}] = {self._memory[par]}\" for par in writeable_params]\n",
    "        if new_ip:\n",
    "            print(f\"✓ Instruction Pointer changed: New value {new_ip}\")\n",
    "        elif values:\n",
    "            print(f\"✓ Result: {', '.join(values)}\")\n",
    "        else:\n",
    "            print(\"✓ No effect to memory or execution\")"
   ]
  },
  {
   "cell_type": "markdown",
   "metadata": {},
   "source": [
    "## Example"
   ]
  },
  {
   "cell_type": "code",
   "execution_count": 143,
   "metadata": {},
   "outputs": [
    {
     "name": "stdout",
     "output_type": "stream",
     "text": [
      "0  ... 1002 4 3 4  ........  multiply  .....  [4]=33, 3, [4]=33  .....................✓ Result: mem[4] = 99\n",
      "4  ... 99  ................  exit  .........    ......................................Program Terminated!\n"
     ]
    },
    {
     "data": {
      "text/plain": [
       "[]"
      ]
     },
     "execution_count": 143,
     "metadata": {},
     "output_type": "execute_result"
    }
   ],
   "source": [
    "program = np.array([1002,4,3,4,33])\n",
    "c = Computer(program, debug=True)\n",
    "c.simulate()"
   ]
  },
  {
   "cell_type": "markdown",
   "metadata": {},
   "source": [
    "## Part 1"
   ]
  },
  {
   "cell_type": "code",
   "execution_count": 144,
   "metadata": {},
   "outputs": [
    {
     "name": "stdout",
     "output_type": "stream",
     "text": [
      "0  ... 3 225  .............  input  ........  [225]=0  ...............................✓ Result: mem[225] = 1\n",
      "2  ... 1 225 6 6  .........  add  ..........  [225]=1, [6]=1100, [6]=1100  ...........✓ Result: mem[225] = 1, mem[6] = 1101\n",
      "6  ... 1101 1 238 225  ....  add  ..........  1, 238, [225]=1  .......................✓ Result: mem[225] = 239\n",
      "10  .. 104 0  .............  output  .......  0  .....................................✓ No effect to memory or execution\n",
      "12  .. 1101 32 43 225  ....  add  ..........  32, 43, [225]=239  .....................✓ Result: mem[225] = 75\n",
      "16  .. 101 68 192 224  ....  add  ..........  68, [192]=92, [224]=0  .................✓ Result: mem[192] = 92, mem[224] = 160\n",
      "20  .. 1001 224 -160 224  .  add  ..........  [224]=160, -160, [224]=160  ............✓ Result: mem[224] = 0\n",
      "24  .. 4 224  .............  output  .......  [224]=0  ...............................✓ Result: mem[224] = 0\n",
      "26  .. 102 8 223 223  .....  multiply  .....  8, [223]=0, [223]=0  ...................✓ Result: mem[223] = 0\n",
      "30  .. 1001 224 2 224  ....  add  ..........  [224]=0, 2, [224]=0  ...................✓ Result: mem[224] = 2\n",
      "34  .. 1 223 224 223  .....  add  ..........  [223]=0, [224]=2, [223]=0  .............✓ Result: mem[224] = 2, mem[223] = 2\n",
      "38  .. 1001 118 77 224  ...  add  ..........  [118]=10, 77, [224]=2  .................✓ Result: mem[224] = 87, mem[118] = 10\n",
      "42  .. 1001 224 -87 224  ..  add  ..........  [224]=87, -87, [224]=87  ...............✓ Result: mem[224] = 0\n",
      "46  .. 4 224  .............  output  .......  [224]=0  ...............................✓ Result: mem[224] = 0\n",
      "48  .. 102 8 223 223  .....  multiply  .....  8, [223]=2, [223]=2  ...................✓ Result: mem[223] = 16\n",
      "52  .. 1001 224 6 224  ....  add  ..........  [224]=0, 6, [224]=0  ...................✓ Result: mem[224] = 6\n",
      "56  .. 1 223 224 223  .....  add  ..........  [223]=16, [224]=6, [223]=16  ...........✓ Result: mem[224] = 6, mem[223] = 22\n",
      "60  .. 1102 5 19 225  .....  multiply  .....  5, 19, [225]=75  .......................✓ Result: mem[225] = 95\n",
      "64  .. 1102 74 50 224  ....  multiply  .....  74, 50, [224]=6  .......................✓ Result: mem[224] = 3700\n",
      "68  .. 101 -3700 224 224  .  add  ..........  -3700, [224]=3700, [224]=3700  .........✓ Result: mem[224] = 0\n",
      "72  .. 4 224  .............  output  .......  [224]=0  ...............................✓ Result: mem[224] = 0\n",
      "74  .. 1002 223 8 223  ....  multiply  .....  [223]=22, 8, [223]=22  .................✓ Result: mem[223] = 176\n",
      "78  .. 1001 224 1 224  ....  add  ..........  [224]=0, 1, [224]=0  ...................✓ Result: mem[224] = 1\n",
      "82  .. 1 223 224 223  .....  add  ..........  [223]=176, [224]=1, [223]=176  .........✓ Result: mem[224] = 1, mem[223] = 177\n",
      "86  .. 1102 89 18 225  ....  multiply  .....  89, 18, [225]=95  ......................✓ Result: mem[225] = 1602\n",
      "90  .. 1002 14 72 224  ....  multiply  .....  [14]=43, 72, [224]=1  ..................✓ Result: mem[224] = 3096, mem[14] = 43\n",
      "94  .. 1001 224 -3096 224    add  ..........  [224]=3096, -3096, [224]=3096  .........✓ Result: mem[224] = 0\n",
      "98  .. 4 224  .............  output  .......  [224]=0  ...............................✓ Result: mem[224] = 0\n",
      "100  . 102 8 223 223  .....  multiply  .....  8, [223]=177, [223]=177  ...............✓ Result: mem[223] = 1416\n",
      "104  . 101 5 224 224  .....  add  ..........  5, [224]=0, [224]=0  ...................✓ Result: mem[224] = 5\n",
      "108  . 1 223 224 223  .....  add  ..........  [223]=1416, [224]=5, [223]=1416  .......✓ Result: mem[224] = 5, mem[223] = 1421\n",
      "112  . 1101 34 53 225  ....  add  ..........  34, 53, [225]=1602  ....................✓ Result: mem[225] = 87\n",
      "116  . 1102 54 10 225  ....  multiply  .....  54, 10, [225]=87  ......................✓ Result: mem[225] = 540\n",
      "120  . 1 113 61 224  ......  add  ..........  [113]=34, [61]=5, [224]=5  .............✓ Result: mem[224] = 39, mem[113] = 34, mem[61] = 5\n",
      "124  . 101 -39 224 224  ...  add  ..........  -39, [224]=39, [224]=39  ...............✓ Result: mem[224] = 0\n",
      "128  . 4 224  .............  output  .......  [224]=0  ...............................✓ Result: mem[224] = 0\n",
      "130  . 102 8 223 223  .....  multiply  .....  8, [223]=1421, [223]=1421  .............✓ Result: mem[223] = 11368\n",
      "134  . 101 2 224 224  .....  add  ..........  2, [224]=0, [224]=0  ...................✓ Result: mem[224] = 2\n",
      "138  . 1 223 224 223  .....  add  ..........  [223]=11368, [224]=2, [223]=11368  .....✓ Result: mem[224] = 2, mem[223] = 11370\n",
      "142  . 1101 31 61 224  ....  add  ..........  31, 61, [224]=2  .......................✓ Result: mem[224] = 92\n",
      "146  . 101 -92 224 224  ...  add  ..........  -92, [224]=92, [224]=92  ...............✓ Result: mem[224] = 0\n",
      "150  . 4 224  .............  output  .......  [224]=0  ...............................✓ Result: mem[224] = 0\n",
      "152  . 102 8 223 223  .....  multiply  .....  8, [223]=11370, [223]=11370  ...........✓ Result: mem[223] = 90960\n",
      "156  . 1001 224 4 224  ....  add  ..........  [224]=0, 4, [224]=0  ...................✓ Result: mem[224] = 4\n",
      "160  . 1 223 224 223  .....  add  ..........  [223]=90960, [224]=4, [223]=90960  .....✓ Result: mem[224] = 4, mem[223] = 90964\n",
      "164  . 1102 75 18 225  ....  multiply  .....  75, 18, [225]=540  .....................✓ Result: mem[225] = 1350\n",
      "168  . 102 48 87 224  .....  multiply  .....  48, [87]=89, [224]=4  ..................✓ Result: mem[224] = 4272, mem[87] = 89\n",
      "172  . 101 -4272 224 224  .  add  ..........  -4272, [224]=4272, [224]=4272  .........✓ Result: mem[224] = 0\n",
      "176  . 4 224  .............  output  .......  [224]=0  ...............................✓ Result: mem[224] = 0\n",
      "178  . 102 8 223 223  .....  multiply  .....  8, [223]=90964, [223]=90964  ...........✓ Result: mem[223] = 727712\n",
      "182  . 1001 224 7 224  ....  add  ..........  [224]=0, 7, [224]=0  ...................✓ Result: mem[224] = 7\n",
      "186  . 1 224 223 223  .....  add  ..........  [224]=7, [223]=727712, [223]=727712  ...✓ Result: mem[224] = 7, mem[223] = 727719\n",
      "190  . 1101 23 92 225  ....  add  ..........  23, 92, [225]=1350  ....................✓ Result: mem[225] = 115\n",
      "194  . 2 165 218 224  .....  multiply  .....  [165]=75, [218]=49, [224]=7  ...........✓ Result: mem[224] = 3675, mem[218] = 49, mem[165] = 75\n",
      "198  . 101 -3675 224 224  .  add  ..........  -3675, [224]=3675, [224]=3675  .........✓ Result: mem[224] = 0\n",
      "202  . 4 224  .............  output  .......  [224]=0  ...............................✓ Result: mem[224] = 0\n",
      "204  . 1002 223 8 223  ....  multiply  .....  [223]=727719, 8, [223]=727719  .........✓ Result: mem[223] = 5821752\n",
      "208  . 101 1 224 224  .....  add  ..........  1, [224]=0, [224]=0  ...................✓ Result: mem[224] = 1\n",
      "212  . 1 223 224 223  .....  add  ..........  [223]=5821752, [224]=1, [223]=5821752  .✓ Result: mem[224] = 1, mem[223] = 5821753\n",
      "216  . 1102 8 49 225  .....  multiply  .....  8, 49, [225]=115  ......................✓ Result: mem[225] = 392\n",
      "220  . 4 223  .............  output  .......  [223]=5821753  .........................✓ Result: mem[223] = 5821753\n",
      "222  . 99  ................  exit  .........    ......................................Program Terminated!\n",
      "5821753\n"
     ]
    }
   ],
   "source": [
    "program = np.array(list(map(int, puzzle.input_data.split(\",\"))))\n",
    "c = Computer(program, inputs=[1], debug=True)\n",
    "outputs = c.simulate()\n",
    "diagnostic_code = outputs[-1]\n",
    "print(diagnostic_code)"
   ]
  },
  {
   "cell_type": "code",
   "execution_count": 146,
   "metadata": {},
   "outputs": [],
   "source": [
    "assert diagnostic_code == 5821753"
   ]
  },
  {
   "cell_type": "code",
   "execution_count": 125,
   "metadata": {},
   "outputs": [
    {
     "name": "stdout",
     "output_type": "stream",
     "text": [
      "\u001b[33mYou don't seem to be solving the right level.  Did you already complete it? [Return to Day 5]\u001b[0m\n"
     ]
    }
   ],
   "source": [
    "puzzle.answer_a = diagnostic_code"
   ]
  },
  {
   "cell_type": "markdown",
   "metadata": {},
   "source": [
    "## Part 2"
   ]
  },
  {
   "cell_type": "markdown",
   "metadata": {},
   "source": [
    "#### Tests"
   ]
  },
  {
   "cell_type": "code",
   "execution_count": 147,
   "metadata": {},
   "outputs": [
    {
     "name": "stdout",
     "output_type": "stream",
     "text": [
      "0  ... 3 9  ...............  input  ........  [9]=-1  ................................✓ Result: mem[9] = 8\n",
      "2  ... 8 9 10 9  ..........  equals  .......  [9]=8, [10]=8, [9]=8  ..................✓ Result: mem[9] = 1, mem[10] = 8\n",
      "6  ... 4 9  ...............  output  .......  [9]=1  .................................✓ Result: mem[9] = 1\n",
      "8  ... 99  ................  exit  .........    ......................................Program Terminated!\n",
      "1\n"
     ]
    }
   ],
   "source": [
    "program = np.array([3,9,8,9,10,9,4,9,99,-1,8])\n",
    "c = Computer(program, inputs=[8], debug=True)\n",
    "outputs = c.simulate()\n",
    "print(outputs[-1])"
   ]
  },
  {
   "cell_type": "code",
   "execution_count": 148,
   "metadata": {},
   "outputs": [
    {
     "name": "stdout",
     "output_type": "stream",
     "text": [
      "0  ... 3 225  .............  input  ........  [225]=0  ...............................✓ Result: mem[225] = 5\n",
      "2  ... 1 225 6 6  .........  add  ..........  [225]=5, [6]=1100, [6]=1100  ...........✓ Result: mem[225] = 5, mem[6] = 1105\n",
      "6  ... 1105 1 238  ........  jump-if-true  .  1, 238  ................................✓ Instruction Pointer changed: New value 238\n",
      "238  . 1105 0 99999  ......  jump-if-true  .  0, 99999  ..............................✓ No effect to memory or execution\n",
      "241  . 1105 227 247  ......  jump-if-true  .  227, 247  ..............................✓ Instruction Pointer changed: New value 247\n",
      "247  . 1005 227 99999  ....  jump-if-true  .  [227]=0, 99999  ........................✓ Result: mem[227] = 0\n",
      "250  . 1005 0 256  ........  jump-if-true  .  [0]=3, 256  ............................✓ Instruction Pointer changed: New value 256\n",
      "256  . 1106 227 99999  ....  jump-if-false    227, 99999  ............................✓ No effect to memory or execution\n",
      "259  . 1106 0 265  ........  jump-if-false    0, 265  ................................✓ Instruction Pointer changed: New value 265\n",
      "265  . 1006 0 99999  ......  jump-if-false    [0]=3, 99999  ..........................✓ Result: mem[0] = 3\n",
      "268  . 1006 227 274  ......  jump-if-false    [227]=0, 274  ..........................✓ Instruction Pointer changed: New value 274\n",
      "274  . 1105 1 280  ........  jump-if-true  .  1, 280  ................................✓ Instruction Pointer changed: New value 280\n",
      "280  . 1 225 225 225  .....  add  ..........  [225]=5, [225]=5, [225]=5  .............✓ Result: mem[225] = 10\n",
      "284  . 1101 294 0 0  ......  add  ..........  294, 0, [0]=3  .........................✓ Result: mem[0] = 294\n",
      "288  . 105 1 0  ...........  jump-if-true  .  1, [0]=294  ............................✓ Instruction Pointer changed: New value 294\n",
      "294  . 1106 0 300  ........  jump-if-false    0, 300  ................................✓ Instruction Pointer changed: New value 300\n",
      "300  . 1 225 225 225  .....  add  ..........  [225]=10, [225]=10, [225]=10  ..........✓ Result: mem[225] = 20\n",
      "304  . 1101 314 0 0  ......  add  ..........  314, 0, [0]=294  .......................✓ Result: mem[0] = 314\n",
      "308  . 106 0 0  ...........  jump-if-false    0, [0]=314  ............................✓ Instruction Pointer changed: New value 314\n",
      "314  . 1107 226 226 224  ..  less than  ....  226, 226, [224]=0  .....................✓ Result: mem[224] = 0\n",
      "318  . 1002 223 2 223  ....  multiply  .....  [223]=0, 2, [223]=0  ...................✓ Result: mem[223] = 0\n",
      "322  . 1005 224 329  ......  jump-if-true  .  [224]=0, 329  ..........................✓ Result: mem[224] = 0\n",
      "325  . 1001 223 1 223  ....  add  ..........  [223]=0, 1, [223]=0  ...................✓ Result: mem[223] = 1\n",
      "329  . 1007 677 226 224  ..  less than  ....  [677]=226, 226, [224]=0  ...............✓ Result: mem[224] = 0, mem[677] = 226\n",
      "333  . 1002 223 2 223  ....  multiply  .....  [223]=1, 2, [223]=1  ...................✓ Result: mem[223] = 2\n",
      "337  . 1006 224 344  ......  jump-if-false    [224]=0, 344  ..........................✓ Instruction Pointer changed: New value 344\n",
      "344  . 108 677 226 224  ...  equals  .......  677, [226]=677, [224]=0  ...............✓ Result: mem[224] = 1, mem[226] = 677\n",
      "348  . 102 2 223 223  .....  multiply  .....  2, [223]=2, [223]=2  ...................✓ Result: mem[223] = 4\n",
      "352  . 1006 224 359  ......  jump-if-false    [224]=1, 359  ..........................✓ Result: mem[224] = 1\n",
      "355  . 1001 223 1 223  ....  add  ..........  [223]=4, 1, [223]=4  ...................✓ Result: mem[223] = 5\n",
      "359  . 7 226 226 224  .....  less than  ....  [226]=677, [226]=677, [224]=1  .........✓ Result: mem[224] = 0, mem[226] = 677\n",
      "363  . 1002 223 2 223  ....  multiply  .....  [223]=5, 2, [223]=5  ...................✓ Result: mem[223] = 10\n",
      "367  . 1005 224 374  ......  jump-if-true  .  [224]=0, 374  ..........................✓ Result: mem[224] = 0\n",
      "370  . 101 1 223 223  .....  add  ..........  1, [223]=10, [223]=10  .................✓ Result: mem[223] = 11\n",
      "374  . 107 677 677 224  ...  less than  ....  677, [677]=226, [224]=0  ...............✓ Result: mem[224] = 0, mem[677] = 226\n",
      "378  . 1002 223 2 223  ....  multiply  .....  [223]=11, 2, [223]=11  .................✓ Result: mem[223] = 22\n",
      "382  . 1006 224 389  ......  jump-if-false    [224]=0, 389  ..........................✓ Instruction Pointer changed: New value 389\n",
      "389  . 1007 677 677 224  ..  less than  ....  [677]=226, 677, [224]=0  ...............✓ Result: mem[224] = 1, mem[677] = 226\n",
      "393  . 1002 223 2 223  ....  multiply  .....  [223]=22, 2, [223]=22  .................✓ Result: mem[223] = 44\n",
      "397  . 1006 224 404  ......  jump-if-false    [224]=1, 404  ..........................✓ Result: mem[224] = 1\n",
      "400  . 1001 223 1 223  ....  add  ..........  [223]=44, 1, [223]=44  .................✓ Result: mem[223] = 45\n",
      "404  . 1107 677 226 224  ..  less than  ....  677, 226, [224]=1  .....................✓ Result: mem[224] = 0\n",
      "408  . 1002 223 2 223  ....  multiply  .....  [223]=45, 2, [223]=45  .................✓ Result: mem[223] = 90\n",
      "412  . 1005 224 419  ......  jump-if-true  .  [224]=0, 419  ..........................✓ Result: mem[224] = 0\n",
      "415  . 1001 223 1 223  ....  add  ..........  [223]=90, 1, [223]=90  .................✓ Result: mem[223] = 91\n",
      "419  . 108 226 226 224  ...  equals  .......  226, [226]=677, [224]=0  ...............✓ Result: mem[224] = 0, mem[226] = 677\n",
      "423  . 102 2 223 223  .....  multiply  .....  2, [223]=91, [223]=91  .................✓ Result: mem[223] = 182\n",
      "427  . 1006 224 434  ......  jump-if-false    [224]=0, 434  ..........................✓ Instruction Pointer changed: New value 434\n",
      "434  . 1108 226 677 224  ..  equals  .......  226, 677, [224]=0  .....................✓ Result: mem[224] = 0\n",
      "438  . 1002 223 2 223  ....  multiply  .....  [223]=182, 2, [223]=182  ...............✓ Result: mem[223] = 364\n",
      "442  . 1006 224 449  ......  jump-if-false    [224]=0, 449  ..........................✓ Instruction Pointer changed: New value 449\n",
      "449  . 1108 677 226 224  ..  equals  .......  677, 226, [224]=0  .....................✓ Result: mem[224] = 0\n",
      "453  . 102 2 223 223  .....  multiply  .....  2, [223]=364, [223]=364  ...............✓ Result: mem[223] = 728\n",
      "457  . 1005 224 464  ......  jump-if-true  .  [224]=0, 464  ..........................✓ Result: mem[224] = 0\n",
      "460  . 1001 223 1 223  ....  add  ..........  [223]=728, 1, [223]=728  ...............✓ Result: mem[223] = 729\n",
      "464  . 107 226 226 224  ...  less than  ....  226, [226]=677, [224]=0  ...............✓ Result: mem[224] = 1, mem[226] = 677\n",
      "468  . 102 2 223 223  .....  multiply  .....  2, [223]=729, [223]=729  ...............✓ Result: mem[223] = 1458\n",
      "472  . 1006 224 479  ......  jump-if-false    [224]=1, 479  ..........................✓ Result: mem[224] = 1\n",
      "475  . 1001 223 1 223  ....  add  ..........  [223]=1458, 1, [223]=1458  .............✓ Result: mem[223] = 1459\n",
      "479  . 1008 226 226 224  ..  equals  .......  [226]=677, 226, [224]=1  ...............✓ Result: mem[224] = 0, mem[226] = 677\n",
      "483  . 102 2 223 223  .....  multiply  .....  2, [223]=1459, [223]=1459  .............✓ Result: mem[223] = 2918\n",
      "487  . 1005 224 494  ......  jump-if-true  .  [224]=0, 494  ..........................✓ Result: mem[224] = 0\n",
      "490  . 101 1 223 223  .....  add  ..........  1, [223]=2918, [223]=2918  .............✓ Result: mem[223] = 2919\n",
      "494  . 7 677 226 224  .....  less than  ....  [677]=226, [226]=677, [224]=0  .........✓ Result: mem[224] = 1, mem[226] = 677, mem[677] = 226\n",
      "498  . 1002 223 2 223  ....  multiply  .....  [223]=2919, 2, [223]=2919  .............✓ Result: mem[223] = 5838\n",
      "502  . 1005 224 509  ......  jump-if-true  .  [224]=1, 509  ..........................✓ Instruction Pointer changed: New value 509\n",
      "509  . 8 226 677 224  .....  equals  .......  [226]=677, [677]=226, [224]=1  .........✓ Result: mem[224] = 0, mem[226] = 677, mem[677] = 226\n",
      "513  . 1002 223 2 223  ....  multiply  .....  [223]=5838, 2, [223]=5838  .............✓ Result: mem[223] = 11676\n",
      "517  . 1006 224 524  ......  jump-if-false    [224]=0, 524  ..........................✓ Instruction Pointer changed: New value 524\n",
      "524  . 1007 226 226 224  ..  less than  ....  [226]=677, 226, [224]=0  ...............✓ Result: mem[224] = 0, mem[226] = 677\n",
      "528  . 1002 223 2 223  ....  multiply  .....  [223]=11676, 2, [223]=11676  ...........✓ Result: mem[223] = 23352\n",
      "532  . 1006 224 539  ......  jump-if-false    [224]=0, 539  ..........................✓ Instruction Pointer changed: New value 539\n",
      "539  . 1008 677 677 224  ..  equals  .......  [677]=226, 677, [224]=0  ...............✓ Result: mem[224] = 0, mem[677] = 226\n",
      "543  . 1002 223 2 223  ....  multiply  .....  [223]=23352, 2, [223]=23352  ...........✓ Result: mem[223] = 46704\n",
      "547  . 1006 224 554  ......  jump-if-false    [224]=0, 554  ..........................✓ Instruction Pointer changed: New value 554\n",
      "554  . 1108 677 677 224  ..  equals  .......  677, 677, [224]=0  .....................✓ Result: mem[224] = 1\n",
      "558  . 102 2 223 223  .....  multiply  .....  2, [223]=46704, [223]=46704  ...........✓ Result: mem[223] = 93408\n",
      "562  . 1006 224 569  ......  jump-if-false    [224]=1, 569  ..........................✓ Result: mem[224] = 1\n",
      "565  . 101 1 223 223  .....  add  ..........  1, [223]=93408, [223]=93408  ...........✓ Result: mem[223] = 93409\n",
      "569  . 1107 226 677 224  ..  less than  ....  226, 677, [224]=1  .....................✓ Result: mem[224] = 1\n",
      "573  . 102 2 223 223  .....  multiply  .....  2, [223]=93409, [223]=93409  ...........✓ Result: mem[223] = 186818\n",
      "577  . 1005 224 584  ......  jump-if-true  .  [224]=1, 584  ..........................✓ Instruction Pointer changed: New value 584\n",
      "584  . 8 677 226 224  .....  equals  .......  [677]=226, [226]=677, [224]=1  .........✓ Result: mem[224] = 0, mem[226] = 677, mem[677] = 226\n",
      "588  . 1002 223 2 223  ....  multiply  .....  [223]=186818, 2, [223]=186818  .........✓ Result: mem[223] = 373636\n",
      "592  . 1006 224 599  ......  jump-if-false    [224]=0, 599  ..........................✓ Instruction Pointer changed: New value 599\n",
      "599  . 1008 677 226 224  ..  equals  .......  [677]=226, 226, [224]=0  ...............✓ Result: mem[224] = 1, mem[677] = 226\n",
      "603  . 102 2 223 223  .....  multiply  .....  2, [223]=373636, [223]=373636  .........✓ Result: mem[223] = 747272\n",
      "607  . 1006 224 614  ......  jump-if-false    [224]=1, 614  ..........................✓ Result: mem[224] = 1\n",
      "610  . 1001 223 1 223  ....  add  ..........  [223]=747272, 1, [223]=747272  .........✓ Result: mem[223] = 747273\n",
      "614  . 7 226 677 224  .....  less than  ....  [226]=677, [677]=226, [224]=1  .........✓ Result: mem[224] = 0, mem[226] = 677, mem[677] = 226\n",
      "618  . 1002 223 2 223  ....  multiply  .....  [223]=747273, 2, [223]=747273  .........✓ Result: mem[223] = 1494546\n",
      "622  . 1005 224 629  ......  jump-if-true  .  [224]=0, 629  ..........................✓ Result: mem[224] = 0\n",
      "625  . 101 1 223 223  .....  add  ..........  1, [223]=1494546, [223]=1494546  .......✓ Result: mem[223] = 1494547\n",
      "629  . 107 226 677 224  ...  less than  ....  226, [677]=226, [224]=0  ...............✓ Result: mem[224] = 0, mem[677] = 226\n",
      "633  . 102 2 223 223  .....  multiply  .....  2, [223]=1494547, [223]=1494547  .......✓ Result: mem[223] = 2989094\n",
      "637  . 1005 224 644  ......  jump-if-true  .  [224]=0, 644  ..........................✓ Result: mem[224] = 0\n",
      "640  . 101 1 223 223  .....  add  ..........  1, [223]=2989094, [223]=2989094  .......✓ Result: mem[223] = 2989095\n",
      "644  . 8 677 677 224  .....  equals  .......  [677]=226, [677]=226, [224]=0  .........✓ Result: mem[224] = 1, mem[677] = 226\n",
      "648  . 102 2 223 223  .....  multiply  .....  2, [223]=2989095, [223]=2989095  .......✓ Result: mem[223] = 5978190\n",
      "652  . 1005 224 659  ......  jump-if-true  .  [224]=1, 659  ..........................✓ Instruction Pointer changed: New value 659\n",
      "659  . 108 677 677 224  ...  equals  .......  677, [677]=226, [224]=1  ...............✓ Result: mem[224] = 0, mem[677] = 226\n",
      "663  . 1002 223 2 223  ....  multiply  .....  [223]=5978190, 2, [223]=5978190  .......✓ Result: mem[223] = 11956380\n",
      "667  . 1005 224 674  ......  jump-if-true  .  [224]=0, 674  ..........................✓ Result: mem[224] = 0\n",
      "670  . 101 1 223 223  .....  add  ..........  1, [223]=11956380, [223]=11956380  .....✓ Result: mem[223] = 11956381\n",
      "674  . 4 223  .............  output  .......  [223]=11956381  ........................✓ Result: mem[223] = 11956381\n",
      "676  . 99  ................  exit  .........    ......................................Program Terminated!\n",
      "11956381\n"
     ]
    }
   ],
   "source": [
    "program = np.array(list(map(int, puzzle.input_data.split(\",\"))))\n",
    "c = Computer(program, inputs=[5], debug=True)\n",
    "outputs = c.simulate()\n",
    "print(outputs[-1])"
   ]
  },
  {
   "cell_type": "code",
   "execution_count": 149,
   "metadata": {},
   "outputs": [],
   "source": [
    "assert outputs[-1] == 11956381"
   ]
  },
  {
   "cell_type": "code",
   "execution_count": 182,
   "metadata": {},
   "outputs": [
    {
     "name": "stdout",
     "output_type": "stream",
     "text": [
      "\u001b[32mThat's the right answer!  You are one gold star closer to rescuing Santa.You have completed Day 5! You can [Shareon\n",
      "  Twitter\n",
      "Mastodon] this victory or [Return to Your Advent Calendar].\u001b[0m\n"
     ]
    }
   ],
   "source": [
    "puzzle.answer_b = outputs[-1]"
   ]
  }
 ],
 "metadata": {
  "kernelspec": {
   "display_name": "AdventOfCode",
   "language": "python",
   "name": "adventofcode"
  },
  "language_info": {
   "codemirror_mode": {
    "name": "ipython",
    "version": 3
   },
   "file_extension": ".py",
   "mimetype": "text/x-python",
   "name": "python",
   "nbconvert_exporter": "python",
   "pygments_lexer": "ipython3",
   "version": "3.7.5"
  }
 },
 "nbformat": 4,
 "nbformat_minor": 4
}
