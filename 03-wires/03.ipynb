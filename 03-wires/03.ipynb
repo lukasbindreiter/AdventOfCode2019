{
 "cells": [
  {
   "cell_type": "code",
   "execution_count": 163,
   "metadata": {},
   "outputs": [],
   "source": [
    "import numpy as np\n",
    "import webbrowser\n",
    "from aocd.models import Puzzle\n",
    "puzzle = Puzzle(year=2019, day=3)"
   ]
  },
  {
   "cell_type": "code",
   "execution_count": 3,
   "metadata": {},
   "outputs": [],
   "source": [
    "webbrowser.open(puzzle.url);"
   ]
  },
  {
   "cell_type": "markdown",
   "metadata": {},
   "source": [
    "## Example"
   ]
  },
  {
   "cell_type": "code",
   "execution_count": 164,
   "metadata": {},
   "outputs": [],
   "source": [
    "wires = [\"R8,U5,L5,D3\", \"U7,R6,D4,L4\"]"
   ]
  },
  {
   "cell_type": "code",
   "execution_count": 165,
   "metadata": {},
   "outputs": [],
   "source": [
    "dirs = {\n",
    "    \"R\": 1,\n",
    "    \"L\": -1,\n",
    "    \"U\": 1j,\n",
    "    \"D\": -1j\n",
    "}\n",
    "\n",
    "def x(pos):\n",
    "    return np.real(pos)\n",
    "\n",
    "def y(pos):\n",
    "    return np.imag(pos)\n",
    "\n",
    "def manhattan(pos):\n",
    "    return abs(x(pos)) + abs(y(pos))"
   ]
  },
  {
   "cell_type": "code",
   "execution_count": 166,
   "metadata": {},
   "outputs": [],
   "source": [
    "def wire_points(wire):\n",
    "    points = [0 + 0j]\n",
    "    paths = wire.split(\",\")\n",
    "    for p in paths:\n",
    "        direction = p[0]\n",
    "        length = int(p[1:])\n",
    "        curr = points[-1]\n",
    "        for l in range(1, length +1):\n",
    "            points.append(curr + l * dirs[direction])\n",
    "    return list(points)"
   ]
  },
  {
   "cell_type": "code",
   "execution_count": 167,
   "metadata": {},
   "outputs": [],
   "source": [
    "def find_intersection(wires):\n",
    "    points1 = set(wire_points(wires[0]))\n",
    "    points2 = set(wire_points(wires[1]))\n",
    "    intersections = sorted(points1.intersection(points2), key=manhattan)\n",
    "    return intersections[1]  # the first one is the origin"
   ]
  },
  {
   "cell_type": "code",
   "execution_count": 168,
   "metadata": {},
   "outputs": [
    {
     "name": "stdout",
     "output_type": "stream",
     "text": [
      "6\n"
     ]
    }
   ],
   "source": [
    "intersection = find_intersection(wires)\n",
    "print(int(manhattan(intersection)))"
   ]
  },
  {
   "cell_type": "markdown",
   "metadata": {},
   "source": [
    "## Part 1"
   ]
  },
  {
   "cell_type": "code",
   "execution_count": 169,
   "metadata": {},
   "outputs": [],
   "source": [
    "wires = puzzle.input_data.split()"
   ]
  },
  {
   "cell_type": "code",
   "execution_count": 170,
   "metadata": {},
   "outputs": [
    {
     "name": "stdout",
     "output_type": "stream",
     "text": [
      "280\n"
     ]
    }
   ],
   "source": [
    "intersection = find_intersection(wires)\n",
    "\n",
    "solution = int(manhattan(intersection))\n",
    "print(solution)"
   ]
  },
  {
   "cell_type": "code",
   "execution_count": 171,
   "metadata": {},
   "outputs": [],
   "source": [
    "puzzle.answer_a = solution"
   ]
  },
  {
   "cell_type": "markdown",
   "metadata": {},
   "source": [
    "## Part 2"
   ]
  },
  {
   "cell_type": "code",
   "execution_count": 172,
   "metadata": {},
   "outputs": [],
   "source": [
    "def time_index(points):\n",
    "    \"\"\"Return a mapping of point: index, where index is the first time a point occurs in the given list\"\"\"\n",
    "    return {p: (len(points) - 1 - t) for t, p in enumerate(points[::-1])}\n",
    "\n",
    "def find_intersection(wires):\n",
    "    points1 = wire_points(wires[0])\n",
    "    points2 = wire_points(wires[1])\n",
    "    time_index1 = time_index(points1)\n",
    "    time_index2 = time_index(points2)\n",
    "    cost = lambda p: time_index1[p] + time_index2[p]\n",
    "    intersections = sorted(set(points1).intersection(set(points2)), key=cost)\n",
    "    return intersections[1], cost(intersections[1])  # the first one is the origin"
   ]
  },
  {
   "cell_type": "code",
   "execution_count": 173,
   "metadata": {},
   "outputs": [],
   "source": [
    "# test cases\n",
    "wires = [\"R8,U5,L5,D3\", \"U7,R6,D4,L4\"]\n",
    "assert find_intersection(wires)[1] == 30\n",
    "wires = [\"R75,D30,R83,U83,L12,D49,R71,U7,L72\", \"U62,R66,U55,R34,D71,R55,D58,R83\"]\n",
    "assert find_intersection(wires)[1] == 610\n",
    "wires = [\"R98,U47,R26,D63,R33,U87,L62,D20,R33,U53,R51\", \"U98,R91,D20,R16,D67,R40,U7,R15,U6,R7\"]\n",
    "assert find_intersection(wires)[1] == 410"
   ]
  },
  {
   "cell_type": "code",
   "execution_count": 174,
   "metadata": {},
   "outputs": [
    {
     "name": "stdout",
     "output_type": "stream",
     "text": [
      "10554\n"
     ]
    }
   ],
   "source": [
    "# part 2\n",
    "wires = puzzle.input_data.split()\n",
    "point, time = find_intersection(wires)\n",
    "print(time)"
   ]
  },
  {
   "cell_type": "code",
   "execution_count": 153,
   "metadata": {},
   "outputs": [
    {
     "name": "stdout",
     "output_type": "stream",
     "text": [
      "\u001b[32mThat's the right answer!  You are one gold star closer to rescuing Santa.You have completed Day 3! You can [Shareon\n",
      "  Twitter\n",
      "Mastodon] this victory or [Return to Your Advent Calendar].\u001b[0m\n"
     ]
    }
   ],
   "source": [
    "puzzle.answer_b = time"
   ]
  }
 ],
 "metadata": {
  "kernelspec": {
   "display_name": "AdventOfCode",
   "language": "python",
   "name": "adventofcode"
  },
  "language_info": {
   "codemirror_mode": {
    "name": "ipython",
    "version": 3
   },
   "file_extension": ".py",
   "mimetype": "text/x-python",
   "name": "python",
   "nbconvert_exporter": "python",
   "pygments_lexer": "ipython3",
   "version": "3.7.5"
  }
 },
 "nbformat": 4,
 "nbformat_minor": 4
}
