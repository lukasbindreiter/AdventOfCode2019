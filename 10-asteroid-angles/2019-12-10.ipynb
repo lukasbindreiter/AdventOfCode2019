{
 "cells": [
  {
   "cell_type": "code",
   "execution_count": 1,
   "metadata": {},
   "outputs": [],
   "source": [
    "import numpy as np\n",
    "import matplotlib.pyplot as plt\n",
    "import webbrowser\n",
    "from aocd.models import Puzzle\n",
    "puzzle = Puzzle(year=2019, day=10)"
   ]
  },
  {
   "cell_type": "code",
   "execution_count": 2,
   "metadata": {},
   "outputs": [],
   "source": [
    "webbrowser.open(puzzle.url);"
   ]
  },
  {
   "cell_type": "code",
   "execution_count": 575,
   "metadata": {},
   "outputs": [],
   "source": [
    "world = np.array([[0 if a is \".\" else 1 for a in l] for l in puzzle.input_data.split()])\n",
    "a_y, a_x = np.where(world)"
   ]
  },
  {
   "cell_type": "code",
   "execution_count": 569,
   "metadata": {},
   "outputs": [
    {
     "data": {
      "text/plain": [
       "array([[0, 1, 1, 1, 0, 1, 1, 1, 0, 1, 1, 1, 0, 1, 1, 1, 1, 1, 0, 1],\n",
       "       [1, 1, 1, 1, 1, 0, 1, 1, 0, 1, 1, 1, 0, 0, 1, 1, 1, 0, 0, 1],\n",
       "       [0, 1, 0, 0, 0, 1, 1, 1, 1, 0, 1, 1, 1, 0, 1, 1, 1, 1, 1, 1],\n",
       "       [1, 1, 1, 1, 1, 1, 0, 1, 1, 1, 0, 1, 1, 1, 1, 0, 1, 1, 1, 1],\n",
       "       [1, 1, 1, 1, 1, 0, 0, 1, 1, 1, 0, 0, 1, 1, 1, 1, 1, 1, 1, 1],\n",
       "       [1, 0, 1, 1, 0, 1, 1, 1, 1, 1, 1, 1, 1, 1, 1, 1, 0, 1, 0, 1],\n",
       "       [1, 1, 0, 1, 1, 1, 0, 1, 1, 1, 1, 1, 1, 0, 0, 1, 0, 1, 0, 1],\n",
       "       [0, 1, 0, 1, 1, 0, 1, 1, 1, 0, 1, 0, 1, 1, 1, 1, 0, 1, 1, 1],\n",
       "       [1, 1, 0, 0, 1, 0, 1, 0, 1, 1, 0, 1, 1, 1, 1, 1, 1, 1, 1, 1],\n",
       "       [1, 1, 1, 0, 1, 1, 1, 1, 1, 1, 1, 0, 1, 1, 1, 0, 0, 1, 1, 0],\n",
       "       [1, 1, 1, 0, 1, 1, 1, 0, 1, 1, 0, 1, 1, 0, 0, 1, 1, 1, 1, 0],\n",
       "       [0, 1, 1, 0, 1, 1, 1, 1, 0, 1, 1, 1, 1, 1, 1, 1, 1, 1, 1, 0],\n",
       "       [1, 1, 1, 1, 1, 1, 1, 0, 1, 1, 0, 1, 1, 1, 0, 1, 1, 1, 1, 1],\n",
       "       [1, 1, 1, 1, 1, 0, 1, 1, 0, 0, 1, 1, 1, 1, 0, 1, 1, 1, 1, 1],\n",
       "       [1, 1, 0, 1, 0, 1, 1, 1, 1, 1, 0, 1, 1, 0, 1, 0, 1, 0, 0, 1],\n",
       "       [1, 1, 1, 1, 1, 1, 1, 1, 1, 1, 1, 0, 1, 1, 1, 1, 1, 1, 1, 0],\n",
       "       [1, 0, 1, 1, 0, 0, 1, 1, 1, 1, 1, 0, 1, 1, 1, 1, 1, 0, 0, 1],\n",
       "       [1, 1, 1, 1, 1, 0, 0, 1, 1, 1, 1, 1, 0, 1, 1, 1, 0, 1, 1, 1],\n",
       "       [1, 1, 1, 1, 0, 1, 0, 1, 1, 1, 1, 1, 1, 1, 1, 1, 1, 1, 1, 0],\n",
       "       [1, 1, 1, 1, 0, 1, 0, 1, 0, 1, 1, 1, 1, 1, 1, 1, 1, 1, 1, 0]])"
      ]
     },
     "execution_count": 569,
     "metadata": {},
     "output_type": "execute_result"
    }
   ],
   "source": [
    "world"
   ]
  },
  {
   "cell_type": "markdown",
   "metadata": {},
   "source": [
    "## Part 1"
   ]
  },
  {
   "cell_type": "markdown",
   "metadata": {},
   "source": [
    "## Example"
   ]
  },
  {
   "cell_type": "code",
   "execution_count": 135,
   "metadata": {},
   "outputs": [],
   "source": [
    "ex_data = \"\"\"\n",
    "......#.#.\n",
    "#..#.#....\n",
    "..#######.\n",
    ".#.#.###..\n",
    ".#..#.....\n",
    "..#....#.#\n",
    "#..#....#.\n",
    ".##.#..###\n",
    "##...#..#.\n",
    ".#....####\n",
    "\"\"\".strip()"
   ]
  },
  {
   "cell_type": "code",
   "execution_count": 136,
   "metadata": {},
   "outputs": [],
   "source": [
    "world = np.array([[0 if a is \".\" else 1 for a in l] for l in ex_data.split()])"
   ]
  },
  {
   "cell_type": "markdown",
   "metadata": {},
   "source": [
    "world"
   ]
  },
  {
   "cell_type": "code",
   "execution_count": 165,
   "metadata": {},
   "outputs": [],
   "source": [
    "a_y, a_x = np.where(world)"
   ]
  },
  {
   "cell_type": "code",
   "execution_count": 181,
   "metadata": {},
   "outputs": [],
   "source": [
    "def calc_visible_asteroids(x, y):\n",
    "    vec = np.array((a_y - y, a_x - x)).T\n",
    "    asteroid_directions = set()\n",
    "    for vv in vec:\n",
    "        if vv[0] != 0 or vv[1] != 0:\n",
    "            normalized = tuple(vv / np.linalg.norm(vv))\n",
    "            asteroid_directions.add(\"{:.7f},{:.7f}\".format(normalized[0], normalized[1]))\n",
    "    return len(asteroid_directions)"
   ]
  },
  {
   "cell_type": "code",
   "execution_count": 182,
   "metadata": {},
   "outputs": [],
   "source": [
    "m = max(calc_visible_asteroids(x, y) for x, y in zip(a_x, a_y))"
   ]
  },
  {
   "cell_type": "code",
   "execution_count": 183,
   "metadata": {},
   "outputs": [
    {
     "name": "stdout",
     "output_type": "stream",
     "text": [
      "214\n"
     ]
    }
   ],
   "source": [
    "print(m)"
   ]
  },
  {
   "cell_type": "code",
   "execution_count": 169,
   "metadata": {},
   "outputs": [
    {
     "name": "stdout",
     "output_type": "stream",
     "text": [
      "\u001b[32mThat's the right answer!  You are one gold star closer to rescuing Santa. [Continue to Part Two]\u001b[0m\n"
     ]
    }
   ],
   "source": [
    "puzzle.answer_a = m"
   ]
  },
  {
   "cell_type": "markdown",
   "metadata": {},
   "source": [
    "## Part 2"
   ]
  },
  {
   "cell_type": "code",
   "execution_count": 576,
   "metadata": {},
   "outputs": [],
   "source": [
    "m = max(calc_visible_asteroids(x, y) for x, y in zip(a_x, a_y))"
   ]
  },
  {
   "cell_type": "code",
   "execution_count": 577,
   "metadata": {},
   "outputs": [],
   "source": [
    "find = [(x, y) for x, y in zip(a_x, a_y) if calc_visible_asteroids(x, y) == m]\n",
    "x, y = find[0]"
   ]
  },
  {
   "cell_type": "code",
   "execution_count": 578,
   "metadata": {},
   "outputs": [
    {
     "data": {
      "text/plain": [
       "(8, 16)"
      ]
     },
     "execution_count": 578,
     "metadata": {},
     "output_type": "execute_result"
    }
   ],
   "source": [
    "x, y"
   ]
  },
  {
   "cell_type": "code",
   "execution_count": 579,
   "metadata": {},
   "outputs": [],
   "source": [
    "from collections import defaultdict\n",
    "def calc_asteroids(x, y):\n",
    "    vec = np.array((a_x - x, a_y - y)).T\n",
    "    asteroids = defaultdict(list)\n",
    "    for vv in vec:\n",
    "        if vv[0] != 0 or vv[1] != 0:\n",
    "            normalized = tuple(vv / np.linalg.norm(vv))\n",
    "            unique_direction_key = \"{:.7f},{:.7f}\".format(normalized[0], normalized[1])\n",
    "            asteroids[unique_direction_key].append(vv)\n",
    "    return dict(asteroids)\n",
    "asteroids = calc_asteroids(x, y)"
   ]
  },
  {
   "cell_type": "code",
   "execution_count": 580,
   "metadata": {},
   "outputs": [],
   "source": [
    "# sort the asteroids within each direction by their distance:\n",
    "for k, v in asteroids.items():\n",
    "    asteroids[k] = sorted(v, key=lambda vec: np.linalg.norm(vec))"
   ]
  },
  {
   "cell_type": "code",
   "execution_count": null,
   "metadata": {},
   "outputs": [],
   "source": [
    "asteroids"
   ]
  },
  {
   "cell_type": "code",
   "execution_count": 582,
   "metadata": {},
   "outputs": [],
   "source": [
    "def key_to_angle(key):\n",
    "    dy, dx = map(float, key.split(\",\"))\n",
    "    # angle for dy, dx, where angle 0 means straight top, and then angle is increasing clock wise\n",
    "    return (180 - rad2deg(math.atan2(dy, dx)) + 360)%360\n"
   ]
  },
  {
   "cell_type": "code",
   "execution_count": 583,
   "metadata": {},
   "outputs": [],
   "source": [
    "order = sorted(asteroids.keys(), key=lambda k: key_to_angle(k))"
   ]
  },
  {
   "cell_type": "code",
   "execution_count": 584,
   "metadata": {},
   "outputs": [
    {
     "name": "stdout",
     "output_type": "stream",
     "text": [
      "502\n"
     ]
    }
   ],
   "source": [
    "dx, dy = asteroids[order[199]][0]\n",
    "tx, ty = x + dx, y + dy\n",
    "print(tx*100 + ty)"
   ]
  },
  {
   "cell_type": "code",
   "execution_count": 585,
   "metadata": {},
   "outputs": [
    {
     "name": "stdout",
     "output_type": "stream",
     "text": [
      "\u001b[32mThat's the right answer!  You are one gold star closer to rescuing Santa.You have completed Day 10! You can [Shareon\n",
      "  Twitter\n",
      "Mastodon] this victory or [Return to Your Advent Calendar].\u001b[0m\n"
     ]
    }
   ],
   "source": [
    "puzzle.answer_b = 502"
   ]
  },
  {
   "cell_type": "code",
   "execution_count": null,
   "metadata": {},
   "outputs": [],
   "source": []
  },
  {
   "cell_type": "code",
   "execution_count": null,
   "metadata": {},
   "outputs": [],
   "source": []
  },
  {
   "cell_type": "code",
   "execution_count": null,
   "metadata": {},
   "outputs": [],
   "source": []
  },
  {
   "cell_type": "markdown",
   "metadata": {},
   "source": [
    "### Load example world"
   ]
  },
  {
   "cell_type": "code",
   "execution_count": null,
   "metadata": {},
   "outputs": [],
   "source": [
    "ex_data = \"\"\"\n",
    ".#..##.###...#######\n",
    "##.############..##.\n",
    ".#.######.########.#\n",
    ".###.#######.####.#.\n",
    "#####.##.#.##.###.##\n",
    "..#####..#.#########\n",
    "####################\n",
    "#.####....###.#.#.##\n",
    "##.#################\n",
    "#####.##.###..####..\n",
    "..######..##.#######\n",
    "####.##.####...##..#\n",
    ".#####..#.######.###\n",
    "##...#.####P#####...\n",
    "#.##########.#######\n",
    ".####.#.###.###.#.##\n",
    "....##.##.###..#####\n",
    ".#.#.###########.###\n",
    "#.#.#.#####.####.###\n",
    "###.##.####.##.#..##\n",
    "\"\"\".strip()\n",
    "world = np.array([[0 if a is \".\" else 1 for a in l] for l in ex_data.split()])\n",
    "a_y, a_x = np.where(world)"
   ]
  }
 ],
 "metadata": {
  "kernelspec": {
   "display_name": "AdventOfCode",
   "language": "python",
   "name": "adventofcode"
  },
  "language_info": {
   "codemirror_mode": {
    "name": "ipython",
    "version": 3
   },
   "file_extension": ".py",
   "mimetype": "text/x-python",
   "name": "python",
   "nbconvert_exporter": "python",
   "pygments_lexer": "ipython3",
   "version": "3.7.5"
  }
 },
 "nbformat": 4,
 "nbformat_minor": 4
}
