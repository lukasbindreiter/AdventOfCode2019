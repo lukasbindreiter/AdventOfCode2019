{
 "cells": [
  {
   "cell_type": "code",
   "execution_count": 1,
   "metadata": {},
   "outputs": [],
   "source": [
    "import numpy as np"
   ]
  },
  {
   "cell_type": "code",
   "execution_count": 21,
   "metadata": {},
   "outputs": [],
   "source": [
    "with open(\"input\", \"r\") as file:\n",
    "    modules = np.array(list(map(int, file.read().split())))"
   ]
  },
  {
   "cell_type": "code",
   "execution_count": 22,
   "metadata": {},
   "outputs": [
    {
     "data": {
      "text/plain": [
       "array([ 88519, 117448, 108285, 121718,  64281,  56719,  69305, 116255,\n",
       "        85453, 137199, 122492,  70729, 149169,  86016,  74378, 135644,\n",
       "       141249,  63641,  61727, 116510,  60001,  85691,  66437, 112556,\n",
       "        73871,  77359, 110859, 124192, 120229,  64408, 139830, 148029,\n",
       "        65862,  84766, 146598, 106148,  76313, 132619, 126445, 124908,\n",
       "       136279,  86875,  87832,  74624, 139808,  93470, 129969,  55892,\n",
       "       122861,  58742, 116963, 111110, 145501, 112617,  71513, 104804,\n",
       "        83016, 136218,  50194, 146859, 148831, 140601,  92783,  85701,\n",
       "       124258,  80228, 100029, 120209,  95788,  86545, 148580, 129744,\n",
       "       117411,  90408, 104237, 100642,  98879, 145146, 121711,  98084,\n",
       "       129186,  69759,  92088, 146954, 143940,  60302, 110277, 110550,\n",
       "       134676,  99848, 120876,  97516, 134259,  68168,  69821,  54549,\n",
       "       134847,  72155, 143606,  74241])"
      ]
     },
     "execution_count": 22,
     "metadata": {},
     "output_type": "execute_result"
    }
   ],
   "source": [
    "modules"
   ]
  },
  {
   "cell_type": "markdown",
   "metadata": {},
   "source": [
    "## 1."
   ]
  },
  {
   "cell_type": "code",
   "execution_count": 23,
   "metadata": {},
   "outputs": [],
   "source": [
    "test_cases = np.array([12, 14, 1969, 100756])\n",
    "expected = np.array([2, 2, 654, 33583])"
   ]
  },
  {
   "cell_type": "code",
   "execution_count": 24,
   "metadata": {},
   "outputs": [],
   "source": [
    "def calc(values):\n",
    "    return values // 3 - 2"
   ]
  },
  {
   "cell_type": "code",
   "execution_count": 25,
   "metadata": {},
   "outputs": [],
   "source": [
    "assert np.allclose(calc(test_cases), expected)"
   ]
  },
  {
   "cell_type": "code",
   "execution_count": 26,
   "metadata": {},
   "outputs": [
    {
     "name": "stdout",
     "output_type": "stream",
     "text": [
      "3465245\n"
     ]
    }
   ],
   "source": [
    "print(np.sum(calc(modules)))"
   ]
  },
  {
   "cell_type": "markdown",
   "metadata": {},
   "source": [
    "## 2."
   ]
  },
  {
   "cell_type": "code",
   "execution_count": 57,
   "metadata": {},
   "outputs": [],
   "source": [
    "test_cases = np.array([12, 14, 1969, 100756])\n",
    "expected = np.array([2, 2, 966, 50346])"
   ]
  },
  {
   "cell_type": "code",
   "execution_count": 53,
   "metadata": {},
   "outputs": [],
   "source": [
    "def calc_fuel(value: int):\n",
    "    if value <= 0:\n",
    "        return 0\n",
    "    fuel = value // 3 - 2\n",
    "    return max(fuel + calc_fuel(fuel), 0)\n",
    "calc = np.vectorize(calc_fuel)"
   ]
  },
  {
   "cell_type": "code",
   "execution_count": 59,
   "metadata": {},
   "outputs": [],
   "source": [
    "assert np.allclose(calc(test_cases), expected)"
   ]
  },
  {
   "cell_type": "code",
   "execution_count": 60,
   "metadata": {},
   "outputs": [
    {
     "name": "stdout",
     "output_type": "stream",
     "text": [
      "5194970\n"
     ]
    }
   ],
   "source": [
    "print(np.sum(calc(modules)))"
   ]
  }
 ],
 "metadata": {
  "kernelspec": {
   "display_name": "lstm",
   "language": "python",
   "name": "lstm"
  },
  "language_info": {
   "codemirror_mode": {
    "name": "ipython",
    "version": 3
   },
   "file_extension": ".py",
   "mimetype": "text/x-python",
   "name": "python",
   "nbconvert_exporter": "python",
   "pygments_lexer": "ipython3",
   "version": "3.7.5"
  }
 },
 "nbformat": 4,
 "nbformat_minor": 4
}
