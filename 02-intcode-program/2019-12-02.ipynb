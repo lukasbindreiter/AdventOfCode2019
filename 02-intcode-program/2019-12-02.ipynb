{
 "cells": [
  {
   "cell_type": "code",
   "execution_count": null,
   "metadata": {},
   "outputs": [],
   "source": [
    "!curl -b session=$(cat ${HOME}/advent_of_code_session) https://adventofcode.com/2019/day/2/input -o input"
   ]
  },
  {
   "cell_type": "code",
   "execution_count": 21,
   "metadata": {},
   "outputs": [],
   "source": [
    "from dataclasses import dataclass\n",
    "from typing import Callable\n",
    "import numpy as np\n",
    "from functools import partial"
   ]
  },
  {
   "cell_type": "code",
   "execution_count": 22,
   "metadata": {},
   "outputs": [],
   "source": [
    "with open(\"input\", \"r\") as file:\n",
    "    lines = file.read().split()"
   ]
  },
  {
   "cell_type": "code",
   "execution_count": 24,
   "metadata": {},
   "outputs": [],
   "source": [
    "class ProgramStop(Exception):\n",
    "    def __init__(self, final_memory):\n",
    "        super().__init__()\n",
    "        self.state = final_memory\n",
    "\n",
    "@dataclass\n",
    "class OpCode:\n",
    "    code: int\n",
    "    n_args: int\n",
    "    func: Callable\n",
    "\n",
    "def exit(memory):\n",
    "    raise ProgramStop(memory)\n",
    "\n",
    "def arithmetic(memory, a, b, out, op):\n",
    "    memory[out] = op(memory[a], memory[b])\n",
    "\n",
    "interpreter = {\n",
    "    op.code: op for op in [\n",
    "        OpCode(code=1, n_args=3, func=partial(arithmetic, op=lambda a, b: a + b)),\n",
    "        OpCode(code=2, n_args=3, func=partial(arithmetic, op=lambda a, b: a * b)),\n",
    "        OpCode(code=99, n_args=0, func=exit)\n",
    "    ]\n",
    "}"
   ]
  },
  {
   "cell_type": "code",
   "execution_count": 25,
   "metadata": {},
   "outputs": [],
   "source": [
    "def simulate(program):\n",
    "    memory = program.copy()\n",
    "    try:\n",
    "        _simulate(memory)\n",
    "        raise ValueError(\"Program did not terminate and instruction pointer out of bounds\")\n",
    "    except ProgramStop as stop:\n",
    "        return stop.state\n",
    "\n",
    "def _simulate(memory):\n",
    "    ip = 0  # instruction pointer\n",
    "    while ip < len(memory):\n",
    "        instruction = interpreter[memory[ip]]\n",
    "        params = memory[ip+1 : ip+1 + instruction.n_args]\n",
    "        ip += 1 + instruction.n_args\n",
    "        instruction.func(memory, *params)"
   ]
  },
  {
   "cell_type": "markdown",
   "metadata": {},
   "source": [
    "## Example"
   ]
  },
  {
   "cell_type": "code",
   "execution_count": 23,
   "metadata": {},
   "outputs": [],
   "source": [
    "program = np.array([1,9,10,3,2,3,11,0,99,30,40,50])"
   ]
  },
  {
   "cell_type": "code",
   "execution_count": 26,
   "metadata": {},
   "outputs": [
    {
     "data": {
      "text/plain": [
       "array([3500,    9,   10,   70,    2,    3,   11,    0,   99,   30,   40,\n",
       "         50])"
      ]
     },
     "execution_count": 26,
     "metadata": {},
     "output_type": "execute_result"
    }
   ],
   "source": [
    "simulate(program)"
   ]
  },
  {
   "cell_type": "markdown",
   "metadata": {},
   "source": [
    "## Part 1"
   ]
  },
  {
   "cell_type": "code",
   "execution_count": 27,
   "metadata": {},
   "outputs": [
    {
     "name": "stdout",
     "output_type": "stream",
     "text": [
      "3760627\n"
     ]
    }
   ],
   "source": [
    "program = np.array(list(map(int, lines[0].split(\",\"))))\n",
    "program[1] = 12\n",
    "program[2] = 2\n",
    "\n",
    "resulting_intcodes = simulate(program)\n",
    "\n",
    "print(resulting_intcodes[0])"
   ]
  },
  {
   "cell_type": "markdown",
   "metadata": {},
   "source": [
    "## Part 2"
   ]
  },
  {
   "cell_type": "code",
   "execution_count": 28,
   "metadata": {},
   "outputs": [],
   "source": [
    "search = 19690720"
   ]
  },
  {
   "cell_type": "code",
   "execution_count": 29,
   "metadata": {},
   "outputs": [
    {
     "name": "stdout",
     "output_type": "stream",
     "text": [
      "Found 19690720: Noun=71, Verb=95\n"
     ]
    }
   ],
   "source": [
    "for noun in range(100):\n",
    "    for verb in range(100):\n",
    "        program[1] = noun\n",
    "        program[2] = verb\n",
    "        resulting_intcodes = simulate(program)\n",
    "        if resulting_intcodes[0] == search:\n",
    "            print(f\"Found {search}: Noun={noun}, Verb={verb}\")\n",
    "            break\n",
    "    if resulting_intcodes[0] == search:\n",
    "        break"
   ]
  },
  {
   "cell_type": "code",
   "execution_count": 30,
   "metadata": {},
   "outputs": [
    {
     "name": "stdout",
     "output_type": "stream",
     "text": [
      "7195\n"
     ]
    }
   ],
   "source": [
    "print(noun*100 + verb)"
   ]
  }
 ],
 "metadata": {
  "kernelspec": {
   "display_name": "AdventOfCode",
   "language": "python",
   "name": "adventofcode"
  },
  "language_info": {
   "codemirror_mode": {
    "name": "ipython",
    "version": 3
   },
   "file_extension": ".py",
   "mimetype": "text/x-python",
   "name": "python",
   "nbconvert_exporter": "python",
   "pygments_lexer": "ipython3",
   "version": "3.7.5"
  }
 },
 "nbformat": 4,
 "nbformat_minor": 4
}
