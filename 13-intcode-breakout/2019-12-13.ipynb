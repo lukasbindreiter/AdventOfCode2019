{
 "cells": [
  {
   "cell_type": "code",
   "execution_count": 4,
   "metadata": {},
   "outputs": [],
   "source": [
    "import numpy as np\n",
    "import matplotlib.pyplot as plt\n",
    "import webbrowser\n",
    "from aocd.models import Puzzle\n",
    "puzzle = Puzzle(year=2019, day=13)"
   ]
  },
  {
   "cell_type": "code",
   "execution_count": 5,
   "metadata": {},
   "outputs": [],
   "source": [
    "webbrowser.open(puzzle.url);"
   ]
  },
  {
   "cell_type": "code",
   "execution_count": 6,
   "metadata": {},
   "outputs": [],
   "source": [
    "from aoc.intcode import *"
   ]
  },
  {
   "cell_type": "markdown",
   "metadata": {},
   "source": [
    "# Part 1"
   ]
  },
  {
   "cell_type": "code",
   "execution_count": 39,
   "metadata": {},
   "outputs": [
    {
     "data": {
      "text/plain": [
       "284"
      ]
     },
     "execution_count": 39,
     "metadata": {},
     "output_type": "execute_result"
    }
   ],
   "source": [
    "program = parse_program(puzzle.input_data)\n",
    "outputs = IntcodeVM(program).run([])\n",
    "x, y, tile = outputs[::3], outputs[1::3], outputs[2::3]\n",
    "points = [(xx, yy) for xx, yy, t in zip(x, y, tile) if t == 2]\n",
    "len(points)"
   ]
  },
  {
   "cell_type": "code",
   "execution_count": 38,
   "metadata": {},
   "outputs": [
    {
     "name": "stdout",
     "output_type": "stream",
     "text": [
      "\u001b[32mThat's the right answer!  You are one gold star closer to rescuing Santa. [Continue to Part Two]\u001b[0m\n"
     ]
    }
   ],
   "source": [
    "puzzle.answer_a = len(points)"
   ]
  },
  {
   "cell_type": "markdown",
   "metadata": {},
   "source": [
    "# Part 2"
   ]
  },
  {
   "cell_type": "code",
   "execution_count": 40,
   "metadata": {},
   "outputs": [],
   "source": [
    "program[0] = 2"
   ]
  },
  {
   "cell_type": "code",
   "execution_count": 76,
   "metadata": {},
   "outputs": [],
   "source": [
    "class Game:\n",
    "    def __init__(self):\n",
    "        self.world = None\n",
    "        self.ball_pos = None\n",
    "        self.paddle_pos = None\n",
    "        self.score = 0\n",
    "        self.char_map = {\n",
    "            0: \" \",\n",
    "            1: \"█\",\n",
    "            2: \"#\",\n",
    "            3: \"=\",\n",
    "            4: \"O\"\n",
    "        }\n",
    "    \n",
    "    def update(self, outputs):\n",
    "        xs, ys, tiles = np.array(outputs[::3]), np.array(outputs[1::3]), np.array(outputs[2::3])\n",
    "        \n",
    "        if self.world is None:\n",
    "            self.world = np.zeros(shape=(ys.max() + 1, xs.max() + 1), dtype=str)\n",
    "        \n",
    "        for x, y, t in zip(xs, ys, tiles):\n",
    "            if t == 4:\n",
    "                self.ball_pos = (x, y)\n",
    "            elif t == 3:\n",
    "                self.paddle_pos = (x, y)\n",
    "\n",
    "            if x == -1:\n",
    "                self.score = t\n",
    "            else:\n",
    "                self.world[y, x] = self.char_map[t]\n",
    "    \n",
    "    def visualize(self):\n",
    "        print(f\"Score: {self.score}\")\n",
    "        print(\"\\n\".join(\"\".join(line) for line in self.world))"
   ]
  },
  {
   "cell_type": "code",
   "execution_count": 154,
   "metadata": {},
   "outputs": [
    {
     "name": "stdout",
     "output_type": "stream",
     "text": [
      "Score: 0\n",
      "███████████████████████████████████████████\n",
      "█                                         █\n",
      "█ ####    #   #   # #    ## # #   ##   #  █\n",
      "█ # ## ## # ## ## ###  ######  # ##### #  █\n",
      "█ #  # ## ####    ##### # ######  ######  █\n",
      "█ ##  ##### # # #  ## # # ### ## ### ## # █\n",
      "█  #### ##  #  # ## #  #   ## # ###### #  █\n",
      "█  ## #######  #### # ## # #   ## #  #### █\n",
      "█ # # ## #### ##  #  #### #####    #####  █\n",
      "█ # ##### #   ##    ### ####    # ####  # █\n",
      "█  ## #  #   #    #   # #  ## # # #  ###  █\n",
      "█ ## ## # # # ##  #    ## ###    ##  #### █\n",
      "█ ###     ######   ## ##  ## ######       █\n",
      "█    # ## ##   ##  ## ### #      #  ## ## █\n",
      "█ ## ##  #  # ### # ## ##  ##    ### # ## █\n",
      "█                                         █\n",
      "█                  O                      █\n",
      "█                                         █\n",
      "█                                         █\n",
      "█                    =                    █\n",
      "█                                         █\n"
     ]
    }
   ],
   "source": [
    "vm = IntcodeVM(program)\n",
    "outputs = vm.run([])\n",
    "game = Game()\n",
    "game.update(outputs)\n",
    "game.visualize()"
   ]
  },
  {
   "cell_type": "code",
   "execution_count": 1402,
   "metadata": {},
   "outputs": [
    {
     "name": "stdout",
     "output_type": "stream",
     "text": [
      "Score: 13581\n",
      "███████████████████████████████████████████\n",
      "█                                         █\n",
      "█                                         █\n",
      "█                                   O     █\n",
      "█                                         █\n",
      "█                                         █\n",
      "█                                         █\n",
      "█                                         █\n",
      "█                                         █\n",
      "█                                         █\n",
      "█                                         █\n",
      "█                                         █\n",
      "█                                         █\n",
      "█                                         █\n",
      "█                                         █\n",
      "█                                         █\n",
      "█                                         █\n",
      "█                                         █\n",
      "█                                         █\n",
      "█                                   =     █\n",
      "█                                         █\n"
     ]
    }
   ],
   "source": [
    "while not vm.stopped:\n",
    "    direction = np.sign(game.ball_pos[0] - game.paddle_pos[0])\n",
    "    outputs = vm.run(direction)\n",
    "    game.update(outputs)\n",
    "\n",
    "game.visualize()"
   ]
  },
  {
   "cell_type": "code",
   "execution_count": 1405,
   "metadata": {},
   "outputs": [
    {
     "data": {
      "text/plain": [
       "13581"
      ]
     },
     "execution_count": 1405,
     "metadata": {},
     "output_type": "execute_result"
    }
   ],
   "source": [
    "game.score"
   ]
  },
  {
   "cell_type": "code",
   "execution_count": 1406,
   "metadata": {},
   "outputs": [
    {
     "name": "stdout",
     "output_type": "stream",
     "text": [
      "\u001b[32mThat's the right answer!  You are one gold star closer to rescuing Santa.You have completed Day 13! You can [Shareon\n",
      "  Twitter\n",
      "Mastodon] this victory or [Return to Your Advent Calendar].\u001b[0m\n"
     ]
    }
   ],
   "source": [
    "puzzle.answer_b = game.score"
   ]
  }
 ],
 "metadata": {
  "kernelspec": {
   "display_name": "AOC2019",
   "language": "python",
   "name": "aoc2019"
  },
  "language_info": {
   "codemirror_mode": {
    "name": "ipython",
    "version": 3
   },
   "file_extension": ".py",
   "mimetype": "text/x-python",
   "name": "python",
   "nbconvert_exporter": "python",
   "pygments_lexer": "ipython3",
   "version": "3.8.0"
  }
 },
 "nbformat": 4,
 "nbformat_minor": 4
}
