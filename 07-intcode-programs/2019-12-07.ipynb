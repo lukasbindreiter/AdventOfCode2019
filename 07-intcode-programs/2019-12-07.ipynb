{
 "cells": [
  {
   "cell_type": "code",
   "execution_count": 1,
   "metadata": {},
   "outputs": [],
   "source": [
    "import webbrowser\n",
    "from aocd.models import Puzzle\n",
    "puzzle = Puzzle(year=2019, day=7)\n",
    "webbrowser.open(puzzle.url);"
   ]
  },
  {
   "cell_type": "code",
   "execution_count": 3,
   "metadata": {},
   "outputs": [],
   "source": [
    "from dataclasses import dataclass\n",
    "from typing import Callable\n",
    "import numpy as np\n",
    "from functools import partial"
   ]
  },
  {
   "cell_type": "code",
   "execution_count": 206,
   "metadata": {},
   "outputs": [],
   "source": [
    "class ProgramStop(Exception):\n",
    "    def __init__(self, final_memory):\n",
    "        super().__init__()\n",
    "        self.state = final_memory\n",
    "\n",
    "@dataclass\n",
    "class OpCode:\n",
    "    name: str\n",
    "    code: int\n",
    "    n_args: int\n",
    "    func: Callable\n",
    "\n",
    "def exit(computer):\n",
    "    raise ProgramStop(computer._memory)\n",
    "    \n",
    "def arithmetic(computer, op):\n",
    "    computer.c = op(computer.a, computer.b)\n",
    "\n",
    "def input_(computer):\n",
    "    computer.a = computer.inputs.pop(0)\n",
    "\n",
    "def output(computer):\n",
    "    computer.outputs.append(computer.a)\n",
    "\n",
    "def jump_if(computer, condition):\n",
    "    if condition(computer.a):\n",
    "        return computer.b\n",
    "\n",
    "def arithmethic_comparison(computer, condition):\n",
    "    computer.c = int(condition(computer.a, computer.b))\n",
    "\n",
    "code_map = {\n",
    "    op.code: op for op in [\n",
    "        OpCode(name=\"add\", code=1, n_args=3, func=partial(arithmetic, op=lambda a, b: a + b)),\n",
    "        OpCode(name=\"multiply\", code=2, n_args=3, func=partial(arithmetic, op=lambda a, b: a * b)),\n",
    "        OpCode(name=\"input\", code=3, n_args=1, func=input_),\n",
    "        OpCode(name=\"output\", code=4, n_args=1, func=output),\n",
    "        OpCode(name=\"jump-if-true\", code=5, n_args=2, func=partial(jump_if, condition=lambda a: a != 0)),\n",
    "        OpCode(name=\"jump-if-false\",code=6, n_args=2, func=partial(jump_if, condition=lambda a: a == 0)),\n",
    "        OpCode(name=\"less than\", code=7, n_args=3, func=partial(arithmethic_comparison, condition=lambda a, b: a < b)),\n",
    "        OpCode(name=\"equals\", code=8, n_args=3, func=partial(arithmethic_comparison, condition=lambda a, b: a == b)),\n",
    "        OpCode(name=\"exit\", code=99, n_args=0, func=exit)\n",
    "    ]\n",
    "}\n",
    "\n",
    "def parse_opcode(code: int):\n",
    "    \"\"\"\n",
    "    Parse the opcode and the parameter modes from the given opcode integer\n",
    "    \n",
    "    >>> parse_opcode(1002)\n",
    "    OpCode('multiplay'), [0, 1, 0]\n",
    "    \n",
    "    >>> parse_opcode(1107)\n",
    "    OpCode('less than'), [1, 1, 0]\n",
    "    \"\"\"\n",
    "    instruction = code_map[code % 100]\n",
    "    modes = [code // 10**(p+2) % 10 for p in range(instruction.n_args)]\n",
    "    return instruction, modes"
   ]
  },
  {
   "cell_type": "code",
   "execution_count": 207,
   "metadata": {},
   "outputs": [],
   "source": [
    "class Computer:\n",
    "    def __init__(self, memory, inputs=None, debug=False):\n",
    "        self.original_memory = memory\n",
    "        self.inputs = [] if inputs is None else inputs\n",
    "        self.debug = debug\n",
    "    \n",
    "    def simulate(self):\n",
    "        self._memory = self.original_memory.copy()\n",
    "        self.outputs = []\n",
    "        try:\n",
    "            self._ip = 0  # instruction pointer\n",
    "            self._simulate()\n",
    "            raise ValueError(\"Program did not terminate and instruction pointer ran out of bounds\")\n",
    "        except ProgramStop as stop:\n",
    "            if self.debug:\n",
    "                print(\"Program Terminated!\")\n",
    "            self._ip = None\n",
    "            self._final_memory = stop.state\n",
    "        return self.outputs\n",
    "    \n",
    "    def _simulate(self):\n",
    "        while self._ip < len(self._memory):\n",
    "            self._instruction, self._param_modes = parse_opcode(self._memory[self._ip])\n",
    "            self._params = self._memory[self._ip+1 : self._ip+1 + self._instruction.n_args]\n",
    "            self._log_instruction_call_before()\n",
    "            new_ip = self._instruction.func(self)\n",
    "            self._log_instruction_call_after(new_ip)\n",
    "            if new_ip is None:\n",
    "                self._ip += 1 + self._instruction.n_args\n",
    "            else:\n",
    "                self._ip = new_ip\n",
    "    \n",
    "    def start_or_continue(self):\n",
    "        if hasattr(self, '_ip') and self._ip is not None:\n",
    "            self._simulate()\n",
    "        else:\n",
    "            self.simulate()\n",
    "    \n",
    "    # easy accessors for the parameters of the current instruction\n",
    "    def _get_param(self, index):\n",
    "        assert len(self._params) > index\n",
    "        if self._param_modes[index] == 0:\n",
    "            return self._memory[self._params[index]]\n",
    "        return self._params[index]\n",
    "    \n",
    "    def _set_param(self, index, value):\n",
    "        assert len(self._params) > index\n",
    "        assert self._param_modes[index] == 0\n",
    "        self._memory[self._params[index]] = value\n",
    "    \n",
    "    @property\n",
    "    def a(self):\n",
    "        return self._get_param(0)\n",
    "    \n",
    "    @a.setter\n",
    "    def a(self, val):\n",
    "        self._set_param(0, val)\n",
    "    \n",
    "    @property\n",
    "    def b(self):\n",
    "        return self._get_param(1)\n",
    "    \n",
    "    @b.setter\n",
    "    def b(self, val):\n",
    "        self._set_param(1, val)\n",
    "    \n",
    "    @property\n",
    "    def c(self):\n",
    "        return self._get_param(2)\n",
    "    \n",
    "    @c.setter\n",
    "    def c(self, val):\n",
    "        self._set_param(2, val)\n",
    "    \n",
    "    def _log_instruction_call_before(self):\n",
    "        if not self.debug:\n",
    "            return\n",
    "        instr = ' '.join(map(str, self._memory[self._ip:self._ip+1 + self._instruction.n_args]))\n",
    "        params = [f\"[{par}]={self._memory[par]}\" if m == 0 else str(par) for par, m in zip(self._params, self._param_modes)]\n",
    "        print(f\"{str(self._ip) + '  ':.<6} {instr+'  ':.<20}  {self._instruction.name+'  ':.<15}  {', '.join(params) + '  ':.<40}\", end=\"\")\n",
    "    \n",
    "    def _log_instruction_call_after(self, new_ip):\n",
    "        if not self.debug:\n",
    "            return\n",
    "        writeable_params = set([par for par, m in zip(self._params, self._param_modes) if m == 0])\n",
    "        values = [f\"mem[{par}] = {self._memory[par]}\" for par in writeable_params]\n",
    "        if new_ip:\n",
    "            print(f\"✓ Instruction Pointer changed: New value {new_ip}\")\n",
    "        elif values:\n",
    "            print(f\"✓ Result: {', '.join(values)}\")\n",
    "        else:\n",
    "            print(\"✓ No effect to memory or execution\")"
   ]
  },
  {
   "cell_type": "markdown",
   "metadata": {},
   "source": [
    "## Example"
   ]
  },
  {
   "cell_type": "code",
   "execution_count": 208,
   "metadata": {},
   "outputs": [],
   "source": [
    "from itertools import permutations\n",
    "\n",
    "def get_max_permutation(program):\n",
    "    curr_max = 0\n",
    "    curr_perm = None\n",
    "    for perm in permutations(range(5)):\n",
    "        signal = 0\n",
    "        for phase in perm:\n",
    "            signal = Computer(program, inputs=[phase, signal]).simulate()[0]\n",
    "        if signal >= curr_max:\n",
    "            curr_max = signal\n",
    "            curr_perm = perm\n",
    "    return curr_max, curr_perm"
   ]
  },
  {
   "cell_type": "code",
   "execution_count": 43,
   "metadata": {},
   "outputs": [
    {
     "data": {
      "text/plain": [
       "(43210, (4, 3, 2, 1, 0))"
      ]
     },
     "execution_count": 43,
     "metadata": {},
     "output_type": "execute_result"
    }
   ],
   "source": [
    "program = np.array([3,15,3,16,1002,16,10,16,1,16,15,15,4,15,99,0,0])\n",
    "get_max_permutation(program)"
   ]
  },
  {
   "cell_type": "markdown",
   "metadata": {},
   "source": [
    "## Part 1"
   ]
  },
  {
   "cell_type": "code",
   "execution_count": 46,
   "metadata": {},
   "outputs": [],
   "source": [
    "program = np.array(list(map(int, puzzle.input_data.split(\",\"))))\n",
    "signal, perm = get_max_permutation(program)"
   ]
  },
  {
   "cell_type": "code",
   "execution_count": 47,
   "metadata": {},
   "outputs": [
    {
     "data": {
      "text/plain": [
       "30940"
      ]
     },
     "execution_count": 47,
     "metadata": {},
     "output_type": "execute_result"
    }
   ],
   "source": [
    "signal"
   ]
  },
  {
   "cell_type": "code",
   "execution_count": 48,
   "metadata": {},
   "outputs": [
    {
     "name": "stdout",
     "output_type": "stream",
     "text": [
      "\u001b[32mThat's the right answer!  You are one gold star closer to rescuing Santa. [Continue to Part Two]\u001b[0m\n"
     ]
    }
   ],
   "source": [
    "puzzle.answer_a = signal"
   ]
  },
  {
   "cell_type": "markdown",
   "metadata": {},
   "source": [
    "## Part 2"
   ]
  },
  {
   "cell_type": "markdown",
   "metadata": {},
   "source": [
    "#### Tests"
   ]
  },
  {
   "cell_type": "code",
   "execution_count": 222,
   "metadata": {},
   "outputs": [],
   "source": [
    "def get_max_permutation2(program):\n",
    "    curr_max = 0\n",
    "    curr_perm = None\n",
    "    \n",
    "    for perm in permutations(range(5, 10)):\n",
    "        signal = 0\n",
    "        computers = [Computer(program, inputs=[phase]) for phase in perm]\n",
    "        last_computer = computers[-1]\n",
    "        computers[0].inputs.append(0)\n",
    "        curr_c = 0\n",
    "        while len(computers) > 0:\n",
    "            next_c = (curr_c + 1) % len(computers)\n",
    "            try:\n",
    "                computers[curr_c].start_or_continue()\n",
    "            except IndexError:  # current computer needs more input to continue\n",
    "                computers[next_c].inputs.append(computers[curr_c].outputs[0])\n",
    "                computers[curr_c].outputs.clear()\n",
    "                curr_c = next_c\n",
    "            except ProgramStop:\n",
    "                computers[next_c].inputs.append(computers[curr_c].outputs[0])\n",
    "                del computers[curr_c]  # don't clear outputs, we need the last output\n",
    "                # don't increase curr_c since we removed from the list\n",
    "        signal = last_computer.outputs[0]\n",
    "        if signal >= curr_max:\n",
    "            curr_max = signal\n",
    "            curr_perm = perm\n",
    "    return curr_max, curr_perm"
   ]
  },
  {
   "cell_type": "code",
   "execution_count": 224,
   "metadata": {},
   "outputs": [
    {
     "data": {
      "text/plain": [
       "(139629729, (9, 8, 7, 6, 5))"
      ]
     },
     "execution_count": 224,
     "metadata": {},
     "output_type": "execute_result"
    }
   ],
   "source": [
    "program = np.array([3,26,1001,26,-4,26,3,27,1002,27,2,27,1,27,26,\n",
    "27,4,27,1001,28,-1,28,1005,28,6,99,0,0,5])\n",
    "get_max_permutation2(program)"
   ]
  },
  {
   "cell_type": "code",
   "execution_count": 226,
   "metadata": {},
   "outputs": [],
   "source": [
    "program = np.array(list(map(int, puzzle.input_data.split(\",\"))))\n",
    "signal, perm = get_max_permutation2(program)"
   ]
  },
  {
   "cell_type": "code",
   "execution_count": 228,
   "metadata": {},
   "outputs": [
    {
     "data": {
      "text/plain": [
       "76211147"
      ]
     },
     "execution_count": 228,
     "metadata": {},
     "output_type": "execute_result"
    }
   ],
   "source": [
    "signal"
   ]
  },
  {
   "cell_type": "code",
   "execution_count": 229,
   "metadata": {},
   "outputs": [
    {
     "name": "stdout",
     "output_type": "stream",
     "text": [
      "\u001b[32mThat's the right answer!  You are one gold star closer to rescuing Santa.You have completed Day 7! You can [Shareon\n",
      "  Twitter\n",
      "Mastodon] this victory or [Return to Your Advent Calendar].\u001b[0m\n"
     ]
    }
   ],
   "source": [
    "puzzle.answer_b = 76211147"
   ]
  }
 ],
 "metadata": {
  "kernelspec": {
   "display_name": "AdventOfCode",
   "language": "python",
   "name": "adventofcode"
  },
  "language_info": {
   "codemirror_mode": {
    "name": "ipython",
    "version": 3
   },
   "file_extension": ".py",
   "mimetype": "text/x-python",
   "name": "python",
   "nbconvert_exporter": "python",
   "pygments_lexer": "ipython3",
   "version": "3.7.5"
  }
 },
 "nbformat": 4,
 "nbformat_minor": 4
}
