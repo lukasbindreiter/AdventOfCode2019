{
 "cells": [
  {
   "cell_type": "code",
   "execution_count": 1,
   "metadata": {},
   "outputs": [],
   "source": [
    "import numpy as np\n",
    "import matplotlib.pyplot as plt\n",
    "import webbrowser\n",
    "from aocd.models import Puzzle\n",
    "puzzle = Puzzle(year=2019, day=12)"
   ]
  },
  {
   "cell_type": "code",
   "execution_count": 2,
   "metadata": {},
   "outputs": [],
   "source": [
    "webbrowser.open(puzzle.url);"
   ]
  },
  {
   "cell_type": "markdown",
   "metadata": {},
   "source": [
    "## Part 1"
   ]
  },
  {
   "cell_type": "code",
   "execution_count": 34,
   "metadata": {},
   "outputs": [],
   "source": [
    "import re\n",
    "from itertools import combinations"
   ]
  },
  {
   "cell_type": "code",
   "execution_count": 12,
   "metadata": {},
   "outputs": [],
   "source": [
    "def ints(s):\n",
    "    return list(map(int, re.findall(r\"-?\\d+\", s)))"
   ]
  },
  {
   "cell_type": "markdown",
   "metadata": {},
   "source": [
    "## Example"
   ]
  },
  {
   "cell_type": "code",
   "execution_count": 122,
   "metadata": {},
   "outputs": [],
   "source": [
    "ex_data = \"\"\"\n",
    "<x=-8, y=-10, z=0>\n",
    "<x=5, y=5, z=10>\n",
    "<x=2, y=-7, z=3>\n",
    "<x=9, y=-8, z=-3>\n",
    "\"\"\".strip()"
   ]
  },
  {
   "cell_type": "code",
   "execution_count": 314,
   "metadata": {},
   "outputs": [],
   "source": [
    "moons_pos = np.array(ints(ex_data)).reshape(4, 3)\n",
    "moons_vel = np.zeros_like(moons_pos)"
   ]
  },
  {
   "cell_type": "code",
   "execution_count": 315,
   "metadata": {},
   "outputs": [],
   "source": [
    "def update_velocities(pos, vel):\n",
    "    for a, b in combinations(range(pos.shape[0]), 2):  # every pair of moons\n",
    "        # do all axes at once\n",
    "        delta = np.sign(pos[a] - pos[b])\n",
    "        vel[a] -= delta\n",
    "        vel[b] += delta\n",
    "\n",
    "def update_pos(pos, vel):\n",
    "    pos += vel\n",
    "\n",
    "def update(pos, vel):\n",
    "    update_velocities(pos, vel)\n",
    "    update_pos(pos, vel)"
   ]
  },
  {
   "cell_type": "code",
   "execution_count": 316,
   "metadata": {},
   "outputs": [],
   "source": [
    "def energy(pos, vel):\n",
    "    return (np.abs(pos).sum(1) * np.abs(vel).sum(1)).sum()"
   ]
  },
  {
   "cell_type": "code",
   "execution_count": 317,
   "metadata": {},
   "outputs": [],
   "source": [
    "for i in range(100):\n",
    "    update(moons_pos, moons_vel)"
   ]
  },
  {
   "cell_type": "code",
   "execution_count": 318,
   "metadata": {},
   "outputs": [
    {
     "data": {
      "text/plain": [
       "1940"
      ]
     },
     "execution_count": 318,
     "metadata": {},
     "output_type": "execute_result"
    }
   ],
   "source": [
    "energy(moons_pos, moons_vel)"
   ]
  },
  {
   "cell_type": "markdown",
   "metadata": {},
   "source": [
    "## Part 1"
   ]
  },
  {
   "cell_type": "code",
   "execution_count": 319,
   "metadata": {},
   "outputs": [],
   "source": [
    "moons_pos = np.array(ints(puzzle.input_data)).reshape(4, 3)\n",
    "moons_vel = np.zeros_like(moons_pos)"
   ]
  },
  {
   "cell_type": "code",
   "execution_count": 320,
   "metadata": {},
   "outputs": [],
   "source": [
    "for i in range(1000):\n",
    "    update(moons_pos, moons_vel)"
   ]
  },
  {
   "cell_type": "code",
   "execution_count": 321,
   "metadata": {},
   "outputs": [
    {
     "name": "stdout",
     "output_type": "stream",
     "text": [
      "6227\n"
     ]
    }
   ],
   "source": [
    "e = energy(moons_pos, moons_vel)\n",
    "print(e)"
   ]
  },
  {
   "cell_type": "code",
   "execution_count": null,
   "metadata": {},
   "outputs": [],
   "source": [
    "puzzle.answer_a = e"
   ]
  },
  {
   "cell_type": "markdown",
   "metadata": {},
   "source": [
    "## Part 2"
   ]
  },
  {
   "cell_type": "code",
   "execution_count": 673,
   "metadata": {},
   "outputs": [],
   "source": [
    "ex_data = \"\"\"\n",
    "<x=-8, y=-10, z=0>\n",
    "<x=5, y=5, z=10>\n",
    "<x=2, y=-7, z=3>\n",
    "<x=9, y=-8, z=-3>\n",
    "\"\"\".strip()\n",
    "\n",
    "moons_pos = np.array(ints(ex_data)).reshape(4, 3)\n",
    "moons_vel = np.zeros_like(moons_pos)"
   ]
  },
  {
   "cell_type": "code",
   "execution_count": 688,
   "metadata": {},
   "outputs": [],
   "source": [
    "# real data\n",
    "moons_pos = np.array(ints(puzzle.input_data)).reshape(4, 3)\n",
    "moons_vel = np.zeros_like(moons_pos)"
   ]
  },
  {
   "cell_type": "code",
   "execution_count": 708,
   "metadata": {},
   "outputs": [],
   "source": [
    "def find_iter_count(moons_pos, moons_vel, axis):\n",
    "    \"\"\"\n",
    "    How many iterations does it take for a given axis to a\n",
    "    \"\"\"\n",
    "    p = moons_pos.copy()\n",
    "    v = moons_vel.copy()\n",
    "    #previous = set()\n",
    "    count = 0\n",
    "    \n",
    "    def gen_state():\n",
    "        return tuple(p[:, axis])\n",
    "    target = gen_state()\n",
    "    \n",
    "    while not gen_state() == target or count == 0:\n",
    "        update(p, v)\n",
    "        count += 1\n",
    "    \n",
    "    return count + 1"
   ]
  },
  {
   "cell_type": "code",
   "execution_count": 711,
   "metadata": {},
   "outputs": [],
   "source": [
    "iter_cycles = [find_iter_count(moons_pos, moons_vel, a) for a in range(3)]"
   ]
  },
  {
   "cell_type": "code",
   "execution_count": 712,
   "metadata": {},
   "outputs": [
    {
     "data": {
      "text/plain": [
       "[268296, 193052, 102356]"
      ]
     },
     "execution_count": 712,
     "metadata": {},
     "output_type": "execute_result"
    }
   ],
   "source": [
    "iter_cycles"
   ]
  },
  {
   "cell_type": "code",
   "execution_count": 713,
   "metadata": {},
   "outputs": [],
   "source": [
    "from math import gcd\n",
    "def lcm(a, b):\n",
    "    return a*b // gcd(a, b)"
   ]
  },
  {
   "cell_type": "code",
   "execution_count": 714,
   "metadata": {},
   "outputs": [],
   "source": [
    "def lcm_list(vals):\n",
    "    l = vals[0]\n",
    "    for i in vals:\n",
    "        l = lcm(l, i)\n",
    "    return l"
   ]
  },
  {
   "cell_type": "code",
   "execution_count": 715,
   "metadata": {},
   "outputs": [
    {
     "data": {
      "text/plain": [
       "331346071640472"
      ]
     },
     "execution_count": 715,
     "metadata": {},
     "output_type": "execute_result"
    }
   ],
   "source": [
    "lcm_list(iter_cycles)"
   ]
  },
  {
   "cell_type": "code",
   "execution_count": 716,
   "metadata": {},
   "outputs": [
    {
     "name": "stdout",
     "output_type": "stream",
     "text": [
      "\u001b[32mThat's the right answer!  You are one gold star closer to rescuing Santa.You have completed Day 12! You can [Shareon\n",
      "  Twitter\n",
      "Mastodon] this victory or [Return to Your Advent Calendar].\u001b[0m\n"
     ]
    }
   ],
   "source": [
    "puzzle.answer_b = lcm_list(iter_cycles)"
   ]
  }
 ],
 "metadata": {
  "kernelspec": {
   "display_name": "AOC2019",
   "language": "python",
   "name": "aoc2019"
  },
  "language_info": {
   "codemirror_mode": {
    "name": "ipython",
    "version": 3
   },
   "file_extension": ".py",
   "mimetype": "text/x-python",
   "name": "python",
   "nbconvert_exporter": "python",
   "pygments_lexer": "ipython3",
   "version": "3.8.0"
  }
 },
 "nbformat": 4,
 "nbformat_minor": 4
}
